{
  "nbformat": 4,
  "nbformat_minor": 0,
  "metadata": {
    "colab": {
      "provenance": [],
      "authorship_tag": "ABX9TyMOeSueo9cpTQIzUZvAGMEf",
      "include_colab_link": true
    },
    "kernelspec": {
      "name": "python3",
      "display_name": "Python 3"
    },
    "language_info": {
      "name": "python"
    }
  },
  "cells": [
    {
      "cell_type": "markdown",
      "metadata": {
        "id": "view-in-github",
        "colab_type": "text"
      },
      "source": [
        "<a href=\"https://colab.research.google.com/github/Rish151/ML-Lab/blob/main/ML_Lab9.ipynb\" target=\"_parent\"><img src=\"https://colab.research.google.com/assets/colab-badge.svg\" alt=\"Open In Colab\"/></a>"
      ]
    },
    {
      "cell_type": "code",
      "execution_count": null,
      "metadata": {
        "id": "txpunkKAXJXc"
      },
      "outputs": [],
      "source": [
        "import pandas as pd\n",
        "import numpy as np"
      ]
    },
    {
      "cell_type": "code",
      "source": [
        "file_path = \"/Result-Experiment.xlsx\"\n",
        "df = pd.read_excel(file_path)"
      ],
      "metadata": {
        "id": "gJlF_KKwX8e7"
      },
      "execution_count": null,
      "outputs": []
    },
    {
      "cell_type": "code",
      "source": [
        "X = pd.to_numeric(df.iloc[1:, 1], errors='coerce')\n",
        "y = pd.to_numeric(df.iloc[1:, 2], errors='coerce')"
      ],
      "metadata": {
        "id": "pfNiIGMPYVNK"
      },
      "execution_count": null,
      "outputs": []
    },
    {
      "cell_type": "code",
      "source": [
        "valid_rows = ~X.isna() & ~y.isna()\n",
        "X, y = X[valid_rows].values, y[valid_rows].values"
      ],
      "metadata": {
        "id": "_VWZs5ANaZD3"
      },
      "execution_count": null,
      "outputs": []
    },
    {
      "cell_type": "code",
      "source": [
        "X_mean, y_mean = np.mean(X), np.mean(y)\n",
        "slope = np.sum((X - X_mean) * (y - y_mean)) / np.sum((X - X_mean) ** 2)\n",
        "intercept = y_mean - (slope * X_mean)"
      ],
      "metadata": {
        "id": "fajeLquxamnn"
      },
      "execution_count": null,
      "outputs": []
    },
    {
      "cell_type": "code",
      "source": [
        "correlation = np.corrcoef(X, y)[0, 1]"
      ],
      "metadata": {
        "id": "XxQD9H1hayIo"
      },
      "execution_count": null,
      "outputs": []
    },
    {
      "cell_type": "code",
      "source": [
        "print(f\"ML Theory - Linear Regression\")\n",
        "print(f\"Slope: {slope}\")\n",
        "print(f\"Intercept: {intercept}\")\n",
        "print(f\"Correlation Coefficient: {correlation}\")"
      ],
      "metadata": {
        "colab": {
          "base_uri": "https://localhost:8080/"
        },
        "id": "k1CtBVTAa1xT",
        "outputId": "9da36c0c-02c2-470a-b90b-c80e25d5f104"
      },
      "execution_count": null,
      "outputs": [
        {
          "output_type": "stream",
          "name": "stdout",
          "text": [
            "ML Theory - Linear Regression\n",
            "Slope: 1.2210863088346533\n",
            "Intercept: -25.94419487796972\n",
            "Correlation Coefficient: 0.7838173638583301\n"
          ]
        }
      ]
    }
  ]
}