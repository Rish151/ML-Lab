{
  "nbformat": 4,
  "nbformat_minor": 0,
  "metadata": {
    "colab": {
      "provenance": [],
      "mount_file_id": "1CnyRqK3y_0kY8bjp6UiFQY0qD6UzsLgd",
      "authorship_tag": "ABX9TyNJ4C/4lT6T/4kwwdV+SlqJ",
      "include_colab_link": true
    },
    "kernelspec": {
      "name": "python3",
      "display_name": "Python 3"
    },
    "language_info": {
      "name": "python"
    }
  },
  "cells": [
    {
      "cell_type": "markdown",
      "metadata": {
        "id": "view-in-github",
        "colab_type": "text"
      },
      "source": [
        "<a href=\"https://colab.research.google.com/github/Rish151/ML-Lab/blob/main/ML_Lab7.ipynb\" target=\"_parent\"><img src=\"https://colab.research.google.com/assets/colab-badge.svg\" alt=\"Open In Colab\"/></a>"
      ]
    },
    {
      "cell_type": "code",
      "execution_count": 1,
      "metadata": {
        "colab": {
          "base_uri": "https://localhost:8080/"
        },
        "id": "2lKMiikGHz_5",
        "outputId": "42c62194-cd69-4f6e-b594-6687ec76bc32"
      },
      "outputs": [
        {
          "output_type": "stream",
          "name": "stdout",
          "text": [
            "Drive already mounted at /content/drive; to attempt to forcibly remount, call drive.mount(\"/content/drive\", force_remount=True).\n"
          ]
        }
      ],
      "source": [
        "from google.colab import drive\n",
        "drive.mount('/content/drive')\n"
      ]
    },
    {
      "cell_type": "code",
      "source": [
        "import pandas as pd\n",
        "file_path = \"/content/drive/MyDrive/titanic.csv\"\n",
        "df = pd.read_csv(file_path)\n",
        "print(df.head())  # Display first 5 rows\n"
      ],
      "metadata": {
        "colab": {
          "base_uri": "https://localhost:8080/"
        },
        "id": "oNX6ibUCJFbX",
        "outputId": "767128c0-63c8-4eec-985f-e9917f2d071f"
      },
      "execution_count": 2,
      "outputs": [
        {
          "output_type": "stream",
          "name": "stdout",
          "text": [
            "   PassengerId  Survived  Pclass  \\\n",
            "0            1         0       3   \n",
            "1            2         1       1   \n",
            "2            3         1       3   \n",
            "3            4         1       1   \n",
            "4            5         0       3   \n",
            "\n",
            "                                                Name     Sex   Age  SibSp  \\\n",
            "0                            Braund, Mr. Owen Harris    male  22.0      1   \n",
            "1  Cumings, Mrs. John Bradley (Florence Briggs Th...  female  38.0      1   \n",
            "2                             Heikkinen, Miss. Laina  female  26.0      0   \n",
            "3       Futrelle, Mrs. Jacques Heath (Lily May Peel)  female  35.0      1   \n",
            "4                           Allen, Mr. William Henry    male  35.0      0   \n",
            "\n",
            "   Parch            Ticket     Fare Cabin Embarked  \n",
            "0      0         A/5 21171   7.2500   NaN        S  \n",
            "1      0          PC 17599  71.2833   C85        C  \n",
            "2      0  STON/O2. 3101282   7.9250   NaN        S  \n",
            "3      0            113803  53.1000  C123        S  \n",
            "4      0            373450   8.0500   NaN        S  \n"
          ]
        }
      ]
    },
    {
      "cell_type": "code",
      "source": [
        "missing_values = df.isnull().sum()\n",
        "print(\"Missing values per column:\\n\", missing_values)"
      ],
      "metadata": {
        "colab": {
          "base_uri": "https://localhost:8080/"
        },
        "id": "jxv4YmRgKlLf",
        "outputId": "da0bc80c-b003-4154-a5e6-f4e1c161d3cf"
      },
      "execution_count": 3,
      "outputs": [
        {
          "output_type": "stream",
          "name": "stdout",
          "text": [
            "Missing values per column:\n",
            " PassengerId      0\n",
            "Survived         0\n",
            "Pclass           0\n",
            "Name             0\n",
            "Sex              0\n",
            "Age            177\n",
            "SibSp            0\n",
            "Parch            0\n",
            "Ticket           0\n",
            "Fare             0\n",
            "Cabin          687\n",
            "Embarked         2\n",
            "dtype: int64\n"
          ]
        }
      ]
    },
    {
      "cell_type": "code",
      "source": [
        "total_missing = df.isnull().sum().sum()\n",
        "print(\"\\nTotal missing values in dataset:\", total_missing)"
      ],
      "metadata": {
        "colab": {
          "base_uri": "https://localhost:8080/"
        },
        "id": "C_nwM5X-K2QP",
        "outputId": "a32d11fa-e701-411b-b2a8-6bfe346dcd56"
      },
      "execution_count": 4,
      "outputs": [
        {
          "output_type": "stream",
          "name": "stdout",
          "text": [
            "\n",
            "Total missing values in dataset: 866\n"
          ]
        }
      ]
    },
    {
      "cell_type": "code",
      "source": [
        "num_survived = df['Survived'].sum()  # Sum of '1's gives total survivors\n",
        "\n",
        "print(\"Number of people who survived:\", num_survived)"
      ],
      "metadata": {
        "colab": {
          "base_uri": "https://localhost:8080/"
        },
        "id": "nq3z2v9LLCQi",
        "outputId": "4edcdb1b-b02f-4b99-e760-5778cec76a78"
      },
      "execution_count": 5,
      "outputs": [
        {
          "output_type": "stream",
          "name": "stdout",
          "text": [
            "Number of people who survived: 342\n"
          ]
        }
      ]
    },
    {
      "cell_type": "code",
      "source": [
        "survivors_by_gender = df.groupby(\"Sex\")[\"Survived\"].sum()\n",
        "\n",
        "print(\"Number of male survivors:\", survivors_by_gender.get(\"male\", 0))\n",
        "print(\"Number of female survivors:\", survivors_by_gender.get(\"female\", 0))"
      ],
      "metadata": {
        "colab": {
          "base_uri": "https://localhost:8080/"
        },
        "id": "sjT0lLL3L9Np",
        "outputId": "d1e9412c-fae1-4045-912b-7ba18dd52052"
      },
      "execution_count": 6,
      "outputs": [
        {
          "output_type": "stream",
          "name": "stdout",
          "text": [
            "Number of male survivors: 109\n",
            "Number of female survivors: 233\n"
          ]
        }
      ]
    },
    {
      "cell_type": "code",
      "source": [
        "average_age_survived = df[df[\"Survived\"] == 1][\"Age\"].mean()\n",
        "\n",
        "print(\"Average age of people who survived:\", round(average_age_survived, 2))"
      ],
      "metadata": {
        "colab": {
          "base_uri": "https://localhost:8080/"
        },
        "id": "C80zLQdZMLKy",
        "outputId": "ddd9206e-65c2-4337-bb0c-a907679ad937"
      },
      "execution_count": 7,
      "outputs": [
        {
          "output_type": "stream",
          "name": "stdout",
          "text": [
            "Average age of people who survived: 28.34\n"
          ]
        }
      ]
    },
    {
      "cell_type": "code",
      "source": [
        "survivors = df[df[\"Survived\"] == 1]\n",
        "\n",
        "\n",
        "min_age = survivors[\"Age\"].min()\n",
        "max_age = survivors[\"Age\"].max()\n",
        "\n",
        "print(\"Minimum age of people who survived:\", min_age)\n",
        "print(\"Maximum age of people who survived:\", max_age)"
      ],
      "metadata": {
        "colab": {
          "base_uri": "https://localhost:8080/"
        },
        "id": "2DZ82PGDMW95",
        "outputId": "ac476730-f9d9-4432-a698-d4b810a7d99e"
      },
      "execution_count": 8,
      "outputs": [
        {
          "output_type": "stream",
          "name": "stdout",
          "text": [
            "Minimum age of people who survived: 0.42\n",
            "Maximum age of people who survived: 80.0\n"
          ]
        }
      ]
    },
    {
      "cell_type": "code",
      "source": [
        "survival_by_class = df.groupby(\"Pclass\")[\"Survived\"].sum()\n",
        "\n",
        "print(\"Survival count with respect to class:\\n\", survival_by_class)"
      ],
      "metadata": {
        "colab": {
          "base_uri": "https://localhost:8080/"
        },
        "id": "osuL6zRNMoMW",
        "outputId": "7661e3a7-dada-4b78-af7b-6c099cfc5602"
      },
      "execution_count": 9,
      "outputs": [
        {
          "output_type": "stream",
          "name": "stdout",
          "text": [
            "Survival count with respect to class:\n",
            " Pclass\n",
            "1    136\n",
            "2     87\n",
            "3    119\n",
            "Name: Survived, dtype: int64\n"
          ]
        }
      ]
    },
    {
      "cell_type": "code",
      "source": [
        "num_with_sibsp = (df[\"SibSp\"] > 0).sum()\n",
        "\n",
        "print(\"Number of passengers with at least one sibling/spouse:\", num_with_sibsp)"
      ],
      "metadata": {
        "colab": {
          "base_uri": "https://localhost:8080/"
        },
        "id": "9Yo3V8X2NHfK",
        "outputId": "ec127214-fed3-4553-d6ef-682912720271"
      },
      "execution_count": 10,
      "outputs": [
        {
          "output_type": "stream",
          "name": "stdout",
          "text": [
            "Number of passengers with at least one sibling/spouse: 283\n"
          ]
        }
      ]
    },
    {
      "cell_type": "code",
      "source": [
        "num_with_parch = (df[\"Parch\"] > 0).sum()\n",
        "\n",
        "print(\"Number of passengers with at least one parent/child:\", num_with_parch)"
      ],
      "metadata": {
        "colab": {
          "base_uri": "https://localhost:8080/"
        },
        "id": "risAZsJxNJIu",
        "outputId": "ea213adc-006b-4e31-fc1f-6c43545cae92"
      },
      "execution_count": 11,
      "outputs": [
        {
          "output_type": "stream",
          "name": "stdout",
          "text": [
            "Number of passengers with at least one parent/child: 213\n"
          ]
        }
      ]
    },
    {
      "cell_type": "code",
      "source": [
        "print(\"column\",len(df.columns))"
      ],
      "metadata": {
        "colab": {
          "base_uri": "https://localhost:8080/"
        },
        "id": "0ZpF_B77WR-L",
        "outputId": "b3e0f1f0-c43b-4449-98f1-3edaf0b4c4c2"
      },
      "execution_count": 15,
      "outputs": [
        {
          "output_type": "stream",
          "name": "stdout",
          "text": [
            "column 12\n"
          ]
        }
      ]
    },
    {
      "cell_type": "code",
      "source": [
        "print(\"column\",(df.columns))"
      ],
      "metadata": {
        "colab": {
          "base_uri": "https://localhost:8080/"
        },
        "id": "rO-kwRbjWbNc",
        "outputId": "87c33793-278c-415e-9b53-f48ef55c9fa5"
      },
      "execution_count": 16,
      "outputs": [
        {
          "output_type": "stream",
          "name": "stdout",
          "text": [
            "column Index(['PassengerId', 'Survived', 'Pclass', 'Name', 'Sex', 'Age', 'SibSp',\n",
            "       'Parch', 'Ticket', 'Fare', 'Cabin', 'Embarked'],\n",
            "      dtype='object')\n"
          ]
        }
      ]
    },
    {
      "cell_type": "code",
      "source": [
        "last_two_columns = df.iloc[:, -2:]  # Selects the last two columns\n",
        "print(last_two_columns)"
      ],
      "metadata": {
        "colab": {
          "base_uri": "https://localhost:8080/"
        },
        "id": "UCyJt81sWvF-",
        "outputId": "554b3baf-bf20-446a-ba9c-c77df7bc2384"
      },
      "execution_count": 17,
      "outputs": [
        {
          "output_type": "stream",
          "name": "stdout",
          "text": [
            "    Cabin Embarked\n",
            "0     NaN        S\n",
            "1     C85        C\n",
            "2     NaN        S\n",
            "3    C123        S\n",
            "4     NaN        S\n",
            "..    ...      ...\n",
            "886   NaN        S\n",
            "887   B42        S\n",
            "888   NaN        S\n",
            "889  C148        C\n",
            "890   NaN        Q\n",
            "\n",
            "[891 rows x 2 columns]\n"
          ]
        }
      ]
    },
    {
      "cell_type": "code",
      "source": [
        "last_two_columns = df.columns[-2:]\n",
        "print(last_two_columns)"
      ],
      "metadata": {
        "colab": {
          "base_uri": "https://localhost:8080/"
        },
        "id": "TRma2kdrXtnL",
        "outputId": "491b0f54-4be4-4fb0-8630-147ff1c11fcb"
      },
      "execution_count": 18,
      "outputs": [
        {
          "output_type": "stream",
          "name": "stdout",
          "text": [
            "Index(['Cabin', 'Embarked'], dtype='object')\n"
          ]
        }
      ]
    },
    {
      "cell_type": "code",
      "source": [
        "missing_age_rows = df[df['Age'].isnull()]\n",
        "\n",
        "print(missing_age_rows)"
      ],
      "metadata": {
        "colab": {
          "base_uri": "https://localhost:8080/"
        },
        "id": "PcxP51NsYkrd",
        "outputId": "efda780a-10ca-4188-9388-a1ce854be361"
      },
      "execution_count": 19,
      "outputs": [
        {
          "output_type": "stream",
          "name": "stdout",
          "text": [
            "     PassengerId  Survived  Pclass                                      Name  \\\n",
            "5              6         0       3                          Moran, Mr. James   \n",
            "17            18         1       2              Williams, Mr. Charles Eugene   \n",
            "19            20         1       3                   Masselmani, Mrs. Fatima   \n",
            "26            27         0       3                   Emir, Mr. Farred Chehab   \n",
            "28            29         1       3             O'Dwyer, Miss. Ellen \"Nellie\"   \n",
            "..           ...       ...     ...                                       ...   \n",
            "859          860         0       3                          Razi, Mr. Raihed   \n",
            "863          864         0       3         Sage, Miss. Dorothy Edith \"Dolly\"   \n",
            "868          869         0       3               van Melkebeke, Mr. Philemon   \n",
            "878          879         0       3                        Laleff, Mr. Kristo   \n",
            "888          889         0       3  Johnston, Miss. Catherine Helen \"Carrie\"   \n",
            "\n",
            "        Sex  Age  SibSp  Parch      Ticket     Fare Cabin Embarked  \n",
            "5      male  NaN      0      0      330877   8.4583   NaN        Q  \n",
            "17     male  NaN      0      0      244373  13.0000   NaN        S  \n",
            "19   female  NaN      0      0        2649   7.2250   NaN        C  \n",
            "26     male  NaN      0      0        2631   7.2250   NaN        C  \n",
            "28   female  NaN      0      0      330959   7.8792   NaN        Q  \n",
            "..      ...  ...    ...    ...         ...      ...   ...      ...  \n",
            "859    male  NaN      0      0        2629   7.2292   NaN        C  \n",
            "863  female  NaN      8      2    CA. 2343  69.5500   NaN        S  \n",
            "868    male  NaN      0      0      345777   9.5000   NaN        S  \n",
            "878    male  NaN      0      0      349217   7.8958   NaN        S  \n",
            "888  female  NaN      1      2  W./C. 6607  23.4500   NaN        S  \n",
            "\n",
            "[177 rows x 12 columns]\n"
          ]
        }
      ]
    }
  ]
}